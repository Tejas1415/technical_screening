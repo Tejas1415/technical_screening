{
 "cells": [
  {
   "cell_type": "markdown",
   "metadata": {},
   "source": [
    "# AirSpace Technologies Technical Screening\n",
    "\n",
    "<br></br>\n",
    "- **Author: Tejas Krishna Reddy**\n",
    "- **Date: 11/06/2020**\n"
   ]
  },
  {
   "cell_type": "markdown",
   "metadata": {},
   "source": [
    "### Pseudo Algorithm and Summary:\n",
    "\n",
    "- Read the log file of all orders.\n",
    "- Clean each line, remove the first index number and store the rest in a list\n",
    "- Convert the cleaned lists into dataframe. \n",
    "- Normalize the 'package' column to get a detailed dataframe.\n",
    "- Convert all the values into imperial units.\n",
    "- Perform Exploratory Data Analysis. Look for connections and actionable insights.\n",
    "- Perform correlation analysis.\n",
    "- Plot the results to visually check for hidden insights.\n",
    "- Perform a basic clustering algorithm to check if there is a way to gain information out of raw data."
   ]
  },
  {
   "cell_type": "markdown",
   "metadata": {},
   "source": [
    "### Install the necessary packages for the below analysis. \n",
    "- !pip install pandas\n",
    "- !pip install ast\n",
    "- !pip install seaborn"
   ]
  },
  {
   "cell_type": "code",
   "execution_count": 1,
   "metadata": {},
   "outputs": [],
   "source": [
    "# Import the packages\n",
    "import pandas as pd\n",
    "import numpy as np\n",
    "import ast\n",
    "import seaborn as sns"
   ]
  },
  {
   "cell_type": "markdown",
   "metadata": {},
   "source": [
    "<br></br>\n",
    "### Read the data"
   ]
  },
  {
   "cell_type": "code",
   "execution_count": 2,
   "metadata": {},
   "outputs": [],
   "source": [
    "# Read the log file by each line\n",
    "with open('order_records.log') as f:\n",
    "    data = f.readlines()"
   ]
  },
  {
   "cell_type": "code",
   "execution_count": 3,
   "metadata": {},
   "outputs": [
    {
     "data": {
      "text/plain": [
       "\"1,{'order_id': 21001, 'package': {'weight': 460, 'volume': 110592, 'imperial_unit': 'false'},'service_line': 34}\\n\""
      ]
     },
     "execution_count": 3,
     "metadata": {},
     "output_type": "execute_result"
    }
   ],
   "source": [
    "# Display one example in 'data'\n",
    "data[1]"
   ]
  },
  {
   "cell_type": "markdown",
   "metadata": {},
   "source": [
    "<br></br>\n",
    "#### In the above example, remove the index number (1) and convert the rest of the string into a dictionary and store it back in data"
   ]
  },
  {
   "cell_type": "code",
   "execution_count": 4,
   "metadata": {},
   "outputs": [],
   "source": [
    "#Remove index from all the lists and store them as dicts\n",
    "for i in range(len(data)):\n",
    "    data[i] = ast.literal_eval(data[i].split(',', 1)[1])"
   ]
  },
  {
   "cell_type": "code",
   "execution_count": 5,
   "metadata": {},
   "outputs": [
    {
     "data": {
      "text/plain": [
       "{'order_id': 21001,\n",
       " 'package': {'weight': 460, 'volume': 110592, 'imperial_unit': 'false'},\n",
       " 'service_line': 34}"
      ]
     },
     "execution_count": 5,
     "metadata": {},
     "output_type": "execute_result"
    }
   ],
   "source": [
    "# Example of data\n",
    "data[1]"
   ]
  },
  {
   "cell_type": "markdown",
   "metadata": {},
   "source": [
    "<br></br>\n",
    "### Now convert the whole data into a pandas dataframe"
   ]
  },
  {
   "cell_type": "code",
   "execution_count": 6,
   "metadata": {},
   "outputs": [
    {
     "data": {
      "text/html": [
       "<div>\n",
       "<style scoped>\n",
       "    .dataframe tbody tr th:only-of-type {\n",
       "        vertical-align: middle;\n",
       "    }\n",
       "\n",
       "    .dataframe tbody tr th {\n",
       "        vertical-align: top;\n",
       "    }\n",
       "\n",
       "    .dataframe thead th {\n",
       "        text-align: right;\n",
       "    }\n",
       "</style>\n",
       "<table border=\"1\" class=\"dataframe\">\n",
       "  <thead>\n",
       "    <tr style=\"text-align: right;\">\n",
       "      <th></th>\n",
       "      <th>order_id</th>\n",
       "      <th>package</th>\n",
       "      <th>service_line</th>\n",
       "    </tr>\n",
       "  </thead>\n",
       "  <tbody>\n",
       "    <tr>\n",
       "      <th>0</th>\n",
       "      <td>21000</td>\n",
       "      <td>{'weight': 326, 'volume': 62018, 'imperial_uni...</td>\n",
       "      <td>34</td>\n",
       "    </tr>\n",
       "    <tr>\n",
       "      <th>1</th>\n",
       "      <td>21001</td>\n",
       "      <td>{'weight': 460, 'volume': 110592, 'imperial_un...</td>\n",
       "      <td>34</td>\n",
       "    </tr>\n",
       "  </tbody>\n",
       "</table>\n",
       "</div>"
      ],
      "text/plain": [
       "   order_id                                            package service_line\n",
       "0     21000  {'weight': 326, 'volume': 62018, 'imperial_uni...           34\n",
       "1     21001  {'weight': 460, 'volume': 110592, 'imperial_un...           34"
      ]
     },
     "execution_count": 6,
     "metadata": {},
     "output_type": "execute_result"
    }
   ],
   "source": [
    "# Now convert the whole data into a pandas dataframe\n",
    "df = pd.DataFrame.from_dict(data)\n",
    "df.head(2)"
   ]
  },
  {
   "cell_type": "code",
   "execution_count": 7,
   "metadata": {},
   "outputs": [
    {
     "data": {
      "text/html": [
       "<div>\n",
       "<style scoped>\n",
       "    .dataframe tbody tr th:only-of-type {\n",
       "        vertical-align: middle;\n",
       "    }\n",
       "\n",
       "    .dataframe tbody tr th {\n",
       "        vertical-align: top;\n",
       "    }\n",
       "\n",
       "    .dataframe thead th {\n",
       "        text-align: right;\n",
       "    }\n",
       "</style>\n",
       "<table border=\"1\" class=\"dataframe\">\n",
       "  <thead>\n",
       "    <tr style=\"text-align: right;\">\n",
       "      <th></th>\n",
       "      <th>order_id</th>\n",
       "      <th>service_line</th>\n",
       "      <th>weight</th>\n",
       "      <th>volume</th>\n",
       "      <th>imperial_unit</th>\n",
       "    </tr>\n",
       "  </thead>\n",
       "  <tbody>\n",
       "    <tr>\n",
       "      <th>0</th>\n",
       "      <td>21000</td>\n",
       "      <td>34</td>\n",
       "      <td>326</td>\n",
       "      <td>62018</td>\n",
       "      <td>false</td>\n",
       "    </tr>\n",
       "    <tr>\n",
       "      <th>1</th>\n",
       "      <td>21001</td>\n",
       "      <td>34</td>\n",
       "      <td>460</td>\n",
       "      <td>110592</td>\n",
       "      <td>false</td>\n",
       "    </tr>\n",
       "  </tbody>\n",
       "</table>\n",
       "</div>"
      ],
      "text/plain": [
       "   order_id service_line  weight  volume imperial_unit\n",
       "0     21000           34     326   62018         false\n",
       "1     21001           34     460  110592         false"
      ]
     },
     "execution_count": 7,
     "metadata": {},
     "output_type": "execute_result"
    }
   ],
   "source": [
    "# Normalize the json column 'package' \n",
    "df2 = pd.json_normalize(df['package'])\n",
    "df3 = pd.concat([df.drop('package', 1), df2], 1)\n",
    "df3.head(2)"
   ]
  },
  {
   "cell_type": "markdown",
   "metadata": {},
   "source": [
    "<br></br>\n",
    "### Convert all values to imperial units\n",
    "\n",
    "- 1 Kg = 2.20462 lbs\n",
    "- 1 Cubic centimeter = 0.0610237 cubic inches"
   ]
  },
  {
   "cell_type": "code",
   "execution_count": 8,
   "metadata": {},
   "outputs": [],
   "source": [
    "df3.loc[df3[\"imperial_unit\"] == \"false\", \"weight\"] =  df3.loc[df3[\"imperial_unit\"] == \"false\", \"weight\"] * 2.204623\n",
    "df3.loc[df3[\"imperial_unit\"] == \"false\", \"volume\"] =  df3.loc[df3[\"imperial_unit\"] == \"false\", \"volume\"] * 0.0610237"
   ]
  },
  {
   "cell_type": "code",
   "execution_count": 9,
   "metadata": {},
   "outputs": [],
   "source": [
    "## Drop the imperial bool column\n",
    "df3 = df3.drop('imperial_unit', 1)"
   ]
  },
  {
   "cell_type": "code",
   "execution_count": 10,
   "metadata": {},
   "outputs": [
    {
     "data": {
      "text/html": [
       "<div>\n",
       "<style scoped>\n",
       "    .dataframe tbody tr th:only-of-type {\n",
       "        vertical-align: middle;\n",
       "    }\n",
       "\n",
       "    .dataframe tbody tr th {\n",
       "        vertical-align: top;\n",
       "    }\n",
       "\n",
       "    .dataframe thead th {\n",
       "        text-align: right;\n",
       "    }\n",
       "</style>\n",
       "<table border=\"1\" class=\"dataframe\">\n",
       "  <thead>\n",
       "    <tr style=\"text-align: right;\">\n",
       "      <th></th>\n",
       "      <th>order_id</th>\n",
       "      <th>service_line</th>\n",
       "      <th>weight</th>\n",
       "      <th>volume</th>\n",
       "    </tr>\n",
       "  </thead>\n",
       "  <tbody>\n",
       "    <tr>\n",
       "      <th>0</th>\n",
       "      <td>21000</td>\n",
       "      <td>34</td>\n",
       "      <td>718.707098</td>\n",
       "      <td>3784.567827</td>\n",
       "    </tr>\n",
       "    <tr>\n",
       "      <th>1</th>\n",
       "      <td>21001</td>\n",
       "      <td>34</td>\n",
       "      <td>1014.126580</td>\n",
       "      <td>6748.733030</td>\n",
       "    </tr>\n",
       "  </tbody>\n",
       "</table>\n",
       "</div>"
      ],
      "text/plain": [
       "   order_id service_line       weight       volume\n",
       "0     21000           34   718.707098  3784.567827\n",
       "1     21001           34  1014.126580  6748.733030"
      ]
     },
     "execution_count": 10,
     "metadata": {},
     "output_type": "execute_result"
    }
   ],
   "source": [
    "df3.head(2)"
   ]
  },
  {
   "cell_type": "markdown",
   "metadata": {},
   "source": [
    "#### Since order ID is unique for every instance, we could remove that for further analysis"
   ]
  },
  {
   "cell_type": "code",
   "execution_count": 11,
   "metadata": {},
   "outputs": [],
   "source": [
    "df3.drop('order_id', 1, inplace = True)"
   ]
  },
  {
   "cell_type": "code",
   "execution_count": 12,
   "metadata": {},
   "outputs": [
    {
     "data": {
      "text/html": [
       "<div>\n",
       "<style scoped>\n",
       "    .dataframe tbody tr th:only-of-type {\n",
       "        vertical-align: middle;\n",
       "    }\n",
       "\n",
       "    .dataframe tbody tr th {\n",
       "        vertical-align: top;\n",
       "    }\n",
       "\n",
       "    .dataframe thead th {\n",
       "        text-align: right;\n",
       "    }\n",
       "</style>\n",
       "<table border=\"1\" class=\"dataframe\">\n",
       "  <thead>\n",
       "    <tr style=\"text-align: right;\">\n",
       "      <th></th>\n",
       "      <th>service_line</th>\n",
       "      <th>weight</th>\n",
       "      <th>volume</th>\n",
       "    </tr>\n",
       "  </thead>\n",
       "  <tbody>\n",
       "    <tr>\n",
       "      <th>0</th>\n",
       "      <td>34</td>\n",
       "      <td>718.707098</td>\n",
       "      <td>3784.567827</td>\n",
       "    </tr>\n",
       "  </tbody>\n",
       "</table>\n",
       "</div>"
      ],
      "text/plain": [
       "  service_line      weight       volume\n",
       "0           34  718.707098  3784.567827"
      ]
     },
     "execution_count": 12,
     "metadata": {},
     "output_type": "execute_result"
    }
   ],
   "source": [
    "df3.head(1)"
   ]
  },
  {
   "cell_type": "markdown",
   "metadata": {},
   "source": [
    "<br></br>\n",
    "## Exploratory Data Analysis:\n",
    "\n",
    "- Check how many unique service lines exist.\n",
    "- How many instances are there for each of the available service lines. \n",
    "- What are the mean and std of weights and volumes carried by these service lines.\n",
    "- Plot the weights Vs Volume with respect to each service line.\n",
    "- Check if there could be a correlation between the values to develop models.\n",
    "- Check if clustering them would help us gain any new actionable insights.\n"
   ]
  },
  {
   "cell_type": "code",
   "execution_count": 14,
   "metadata": {},
   "outputs": [
    {
     "name": "stdout",
     "output_type": "stream",
     "text": [
      "Num of unique service lines in data:  5\n",
      "\n",
      "The service lines are:  [34, 88, 65, 64, 14]\n"
     ]
    }
   ],
   "source": [
    "# Convert all values in service lines to int\n",
    "df3['service_line'] = df3['service_line'].apply(lambda x: int(x))\n",
    "# Unique Service Lines\n",
    "print(\"Num of unique service lines in data: \", len(df3['service_line'].unique()))\n",
    "print(\"\\nThe service lines are: \", list(df3['service_line'].unique()))"
   ]
  },
  {
   "cell_type": "code",
   "execution_count": 30,
   "metadata": {},
   "outputs": [
    {
     "name": "stdout",
     "output_type": "stream",
     "text": [
      "Each service line has the following number of orders: \n"
     ]
    },
    {
     "data": {
      "text/plain": [
       "34    501\n",
       "65    478\n",
       "88     12\n",
       "14      7\n",
       "64      2\n",
       "Name: service_line, dtype: int64"
      ]
     },
     "execution_count": 30,
     "metadata": {},
     "output_type": "execute_result"
    }
   ],
   "source": [
    "# Check how many times does each service line occur:\n",
    "print(\"Each service line has the following number of orders: \")\n",
    "df3['service_line'].value_counts()"
   ]
  },
  {
   "cell_type": "code",
   "execution_count": 29,
   "metadata": {},
   "outputs": [
    {
     "name": "stdout",
     "output_type": "stream",
     "text": [
      "Mean of all weights in given data:  835.0433533770006\n",
      "Mean of all Volumes in the given data:  18173.12650733503\n",
      "\n",
      "Std of all weights in given data:  2815.1599544468086\n",
      "Std of all Volumes in the given data:  65179.65346801306\n"
     ]
    }
   ],
   "source": [
    "## All weights, Volumes mean and Std\n",
    "print(\"Mean of all weights in given data: \", df3['weight'].mean())\n",
    "print(\"Mean of all Volumes in the given data: \", df3['volume'].mean())\n",
    "\n",
    "print(\"\\nStd of all weights in given data: \", df3['weight'].std())\n",
    "print(\"Std of all Volumes in the given data: \", df3['volume'].std())"
   ]
  },
  {
   "cell_type": "code",
   "execution_count": 16,
   "metadata": {},
   "outputs": [
    {
     "name": "stderr",
     "output_type": "stream",
     "text": [
      "C:\\Users\\Tejas\\AppData\\Local\\Continuum\\anaconda3\\lib\\site-packages\\ipykernel_launcher.py:2: FutureWarning: Indexing with multiple keys (implicitly converted to a tuple of keys) will be deprecated, use a list instead.\n",
      "  \n"
     ]
    },
    {
     "data": {
      "text/html": [
       "<div>\n",
       "<style scoped>\n",
       "    .dataframe tbody tr th:only-of-type {\n",
       "        vertical-align: middle;\n",
       "    }\n",
       "\n",
       "    .dataframe tbody tr th {\n",
       "        vertical-align: top;\n",
       "    }\n",
       "\n",
       "    .dataframe thead th {\n",
       "        text-align: right;\n",
       "    }\n",
       "</style>\n",
       "<table border=\"1\" class=\"dataframe\">\n",
       "  <thead>\n",
       "    <tr style=\"text-align: right;\">\n",
       "      <th></th>\n",
       "      <th>weight</th>\n",
       "      <th>volume</th>\n",
       "    </tr>\n",
       "    <tr>\n",
       "      <th>service_line</th>\n",
       "      <th></th>\n",
       "      <th></th>\n",
       "    </tr>\n",
       "  </thead>\n",
       "  <tbody>\n",
       "    <tr>\n",
       "      <th>14</th>\n",
       "      <td>622.648524</td>\n",
       "      <td>8060.925651</td>\n",
       "    </tr>\n",
       "    <tr>\n",
       "      <th>34</th>\n",
       "      <td>501.567760</td>\n",
       "      <td>19444.774087</td>\n",
       "    </tr>\n",
       "    <tr>\n",
       "      <th>64</th>\n",
       "      <td>628.317555</td>\n",
       "      <td>6338.470695</td>\n",
       "    </tr>\n",
       "    <tr>\n",
       "      <th>65</th>\n",
       "      <td>1195.643120</td>\n",
       "      <td>17058.510497</td>\n",
       "    </tr>\n",
       "    <tr>\n",
       "      <th>88</th>\n",
       "      <td>552.109961</td>\n",
       "      <td>17351.937592</td>\n",
       "    </tr>\n",
       "  </tbody>\n",
       "</table>\n",
       "</div>"
      ],
      "text/plain": [
       "                   weight        volume\n",
       "service_line                           \n",
       "14             622.648524   8060.925651\n",
       "34             501.567760  19444.774087\n",
       "64             628.317555   6338.470695\n",
       "65            1195.643120  17058.510497\n",
       "88             552.109961  17351.937592"
      ]
     },
     "execution_count": 16,
     "metadata": {},
     "output_type": "execute_result"
    }
   ],
   "source": [
    "# Check the mean weights and volumes per service line\n",
    "df3.groupby(['service_line'])['weight', 'volume'].mean()"
   ]
  },
  {
   "cell_type": "code",
   "execution_count": 19,
   "metadata": {},
   "outputs": [
    {
     "name": "stderr",
     "output_type": "stream",
     "text": [
      "C:\\Users\\Tejas\\AppData\\Local\\Continuum\\anaconda3\\lib\\site-packages\\ipykernel_launcher.py:2: FutureWarning: Indexing with multiple keys (implicitly converted to a tuple of keys) will be deprecated, use a list instead.\n",
      "  \n"
     ]
    },
    {
     "data": {
      "text/html": [
       "<div>\n",
       "<style scoped>\n",
       "    .dataframe tbody tr th:only-of-type {\n",
       "        vertical-align: middle;\n",
       "    }\n",
       "\n",
       "    .dataframe tbody tr th {\n",
       "        vertical-align: top;\n",
       "    }\n",
       "\n",
       "    .dataframe thead th {\n",
       "        text-align: right;\n",
       "    }\n",
       "</style>\n",
       "<table border=\"1\" class=\"dataframe\">\n",
       "  <thead>\n",
       "    <tr style=\"text-align: right;\">\n",
       "      <th></th>\n",
       "      <th>weight</th>\n",
       "      <th>volume</th>\n",
       "    </tr>\n",
       "    <tr>\n",
       "      <th>service_line</th>\n",
       "      <th></th>\n",
       "      <th></th>\n",
       "    </tr>\n",
       "  </thead>\n",
       "  <tbody>\n",
       "    <tr>\n",
       "      <th>14</th>\n",
       "      <td>657.094603</td>\n",
       "      <td>9488.626450</td>\n",
       "    </tr>\n",
       "    <tr>\n",
       "      <th>34</th>\n",
       "      <td>690.918348</td>\n",
       "      <td>51713.358039</td>\n",
       "    </tr>\n",
       "    <tr>\n",
       "      <th>64</th>\n",
       "      <td>576.794433</td>\n",
       "      <td>4937.513033</td>\n",
       "    </tr>\n",
       "    <tr>\n",
       "      <th>65</th>\n",
       "      <td>3979.772556</td>\n",
       "      <td>77925.937464</td>\n",
       "    </tr>\n",
       "    <tr>\n",
       "      <th>88</th>\n",
       "      <td>350.887776</td>\n",
       "      <td>26061.223571</td>\n",
       "    </tr>\n",
       "  </tbody>\n",
       "</table>\n",
       "</div>"
      ],
      "text/plain": [
       "                   weight        volume\n",
       "service_line                           \n",
       "14             657.094603   9488.626450\n",
       "34             690.918348  51713.358039\n",
       "64             576.794433   4937.513033\n",
       "65            3979.772556  77925.937464\n",
       "88             350.887776  26061.223571"
      ]
     },
     "execution_count": 19,
     "metadata": {},
     "output_type": "execute_result"
    }
   ],
   "source": [
    "# Check the standard Deviation of volumes and weights per service line\n",
    "df3.groupby(['service_line'])['weight', 'volume'].std()"
   ]
  },
  {
   "cell_type": "code",
   "execution_count": 20,
   "metadata": {},
   "outputs": [
    {
     "name": "stdout",
     "output_type": "stream",
     "text": [
      "Correlation coefficients are as follows: \n"
     ]
    },
    {
     "data": {
      "text/html": [
       "<div>\n",
       "<style scoped>\n",
       "    .dataframe tbody tr th:only-of-type {\n",
       "        vertical-align: middle;\n",
       "    }\n",
       "\n",
       "    .dataframe tbody tr th {\n",
       "        vertical-align: top;\n",
       "    }\n",
       "\n",
       "    .dataframe thead th {\n",
       "        text-align: right;\n",
       "    }\n",
       "</style>\n",
       "<table border=\"1\" class=\"dataframe\">\n",
       "  <thead>\n",
       "    <tr style=\"text-align: right;\">\n",
       "      <th></th>\n",
       "      <th>service_line</th>\n",
       "      <th>weight</th>\n",
       "      <th>volume</th>\n",
       "    </tr>\n",
       "  </thead>\n",
       "  <tbody>\n",
       "    <tr>\n",
       "      <th>service_line</th>\n",
       "      <td>1.000000</td>\n",
       "      <td>0.113629</td>\n",
       "      <td>-0.015492</td>\n",
       "    </tr>\n",
       "    <tr>\n",
       "      <th>weight</th>\n",
       "      <td>0.113629</td>\n",
       "      <td>1.000000</td>\n",
       "      <td>0.126021</td>\n",
       "    </tr>\n",
       "    <tr>\n",
       "      <th>volume</th>\n",
       "      <td>-0.015492</td>\n",
       "      <td>0.126021</td>\n",
       "      <td>1.000000</td>\n",
       "    </tr>\n",
       "  </tbody>\n",
       "</table>\n",
       "</div>"
      ],
      "text/plain": [
       "              service_line    weight    volume\n",
       "service_line      1.000000  0.113629 -0.015492\n",
       "weight            0.113629  1.000000  0.126021\n",
       "volume           -0.015492  0.126021  1.000000"
      ]
     },
     "execution_count": 20,
     "metadata": {},
     "output_type": "execute_result"
    }
   ],
   "source": [
    "### Correlation Analysis\n",
    "# Check for Pearson's correlation coefficient values\n",
    "print(\"Correlation coefficients are as follows: \")\n",
    "df3.corr()"
   ]
  },
  {
   "cell_type": "markdown",
   "metadata": {},
   "source": [
    "<br></br>\n",
    "## Data Visualization\n",
    "<br></br>"
   ]
  },
  {
   "cell_type": "code",
   "execution_count": 24,
   "metadata": {},
   "outputs": [
    {
     "data": {
      "text/plain": [
       "<seaborn.axisgrid.FacetGrid at 0x14fc5679c88>"
      ]
     },
     "execution_count": 24,
     "metadata": {},
     "output_type": "execute_result"
    },
    {
     "data": {
      "image/png": "[encoded data removed]",
      "text/plain": [
       "<Figure size 427.125x360 with 1 Axes>"
      ]
     },
     "metadata": {
      "needs_background": "light"
     },
     "output_type": "display_data"
    }
   ],
   "source": [
    "## Plot the weights Vs Volume with respect to each service line.\n",
    "sns.lmplot(data=df3, x='volume', y='weight', hue='service_line', fit_reg = False)"
   ]
  },
  {
   "cell_type": "markdown",
   "metadata": {},
   "source": [
    "<br></br>\n",
    "## Let us convert all the units to non-imperial, to check if there could be a better trend formed in the visualization!  \n",
    "<br></br>"
   ]
  },
  {
   "cell_type": "code",
   "execution_count": 31,
   "metadata": {},
   "outputs": [],
   "source": [
    "def non_imperial_plot(df, df2):\n",
    "    df3 = pd.concat([df.drop('package', 1), df2], 1)\n",
    "    # 1 lbs = 0.453592 Kgs, 1 cu inch = 16.3871 cu cms\n",
    "    df3.loc[df3[\"imperial_unit\"] == \"True\", \"weight\"] =  df3.loc[df3[\"imperial_unit\"] == \"True\", \"weight\"] * 0.453592\n",
    "    df3.loc[df3[\"imperial_unit\"] == \"True\", \"volume\"] =  df3.loc[df3[\"imperial_unit\"] == \"True\", \"volume\"] * 16.3871\n",
    "\n",
    "    # Remove imperial_unit column\n",
    "    df3 = df3.drop('imperial_unit', 1)\n",
    "    df3 = df3.drop('order_id', 1)\n",
    "\n",
    "    df3['service_line'] = df3['service_line'].apply(lambda x: int(x))\n",
    "    sns.lmplot(data=df3, x='volume', y='weight', hue='service_line', fit_reg = False)\n",
    "    return df3\n"
   ]
  },
  {
   "cell_type": "code",
   "execution_count": 43,
   "metadata": {},
   "outputs": [
    {
     "data": {
      "image/png": "[encoded data removed]",
      "text/plain": [
       "<Figure size 427.125x360 with 1 Axes>"
      ]
     },
     "metadata": {
      "needs_background": "light"
     },
     "output_type": "display_data"
    }
   ],
   "source": [
    "df4 = non_imperial_plot(df, df2)"
   ]
  },
  {
   "cell_type": "markdown",
   "metadata": {},
   "source": [
    "\n",
    "<br></br>\n",
    "## What we understood so far from EDA?\n",
    "\n",
    "<br></br>\n",
    "- We have 5 unique service lines in which '34' and '65' are highly populated as compared to others.\n",
    "- The mean weight of all orders is 835.04 lbs, line 34's mean weight is ~690 lbs, which is lesser than overall mean, but line 65 carries orders with more weight than overall mean - 1195.643120 lbs.\n",
    "- Looking at the std's, we could observe that line 88 has the least std as compared to lines 34 and 65. Which means that the orders in line 88 are in pretty restricted in weight and volume.\n",
    "- Looking at the pearson's correlation coefficients between the variables, we could see that they are independent features with no significant relationships. Hence, developing regression models of any kind might not be a great option. \n",
    "- From the non-imperial plot, we can observe a clear distinctive differentiation for each service line. Service line 88 is for all the (low weight, low volume) orders. Service line 34 mainly deals with (high volume, low weight) orders and line 65 deals with (high volume, high weight) orders. \n",
    "- Also just by looking at weight and volume it is hard to classify which service line the order would go into is hard to predict since, we could observe a significant overlap between the orders from the plot. Especially line 88 orders with other lines. Hence, having more information about the order will help us dig deep and understand in much detail over which service line fits which of the order types. \n",
    "- However, there is a significant difference in line 34 and 65, which are the most populated service lines, hence, let us try to build a simple ML classifier that could predict the service line among 34 and 65 given the weight and volume."
   ]
  },
  {
   "cell_type": "code",
   "execution_count": 44,
   "metadata": {},
   "outputs": [
    {
     "data": {
      "text/plain": [
       "(979, 3)"
      ]
     },
     "execution_count": 44,
     "metadata": {},
     "output_type": "execute_result"
    }
   ],
   "source": [
    "## ML classifier for service_line 34 and 65. \n",
    "## remove other service lines which are sparsely populated.\n",
    "df4['service_line'] = df4['service_line'].apply(lambda x: str(x))\n",
    "df4 = df4[df4['service_line'].isin(['34', '65'])]\n",
    "df4.reset_index(drop = True, inplace = True)\n",
    "df4.shape"
   ]
  },
  {
   "cell_type": "code",
   "execution_count": 45,
   "metadata": {},
   "outputs": [],
   "source": [
    "# Divide the data into X and y\n",
    "X = df4.drop('service_line', 1)\n",
    "y = df4['service_line']"
   ]
  },
  {
   "cell_type": "code",
   "execution_count": 59,
   "metadata": {},
   "outputs": [],
   "source": [
    "#Convert y into 0's and 1's (0's - 65, 1's - 34)\n",
    "y = y.eq('34').mul(1)"
   ]
  },
  {
   "cell_type": "code",
   "execution_count": 46,
   "metadata": {},
   "outputs": [],
   "source": [
    "# Scale the weights and volume columns.\n",
    "from sklearn.preprocessing import MinMaxScaler\n",
    "X = MinMaxScaler().fit_transform(X)\n",
    "X = pd.DataFrame(X)\n",
    "X.reset_index(drop = True, inplace = True)"
   ]
  },
  {
   "cell_type": "code",
   "execution_count": 60,
   "metadata": {},
   "outputs": [],
   "source": [
    "## Divide into test and train data:\n",
    "from sklearn import model_selection\n",
    "\n",
    "X_train, X_test, y_train, y_test = model_selection.train_test_split(X, y, test_size=0.20)"
   ]
  },
  {
   "cell_type": "code",
   "execution_count": 61,
   "metadata": {},
   "outputs": [],
   "source": [
    "### Define Functions for accuracy measures\n",
    "def accuracies(modl1):\n",
    "    \n",
    "    y_pred1 = modl1.predict(X_train) \n",
    "    count1 = 0\n",
    "    for i in range(0, len(y_train)):\n",
    "        if y_pred1[i] == float(y_train.iloc[i]):\n",
    "            count1 = count1 + 1\n",
    "\n",
    "    print(\"Training Accuracy: \", count1/len(y_train))\n",
    "       \n",
    "       \n",
    "    \n",
    "    y_pred1 = modl1.predict(X_test) \n",
    "    count1 = 0\n",
    "    for i in range(0, len(y_test)):\n",
    "        if y_pred1[i] == float(y_test.iloc[i]):\n",
    "            count1 = count1 + 1\n",
    "    \n",
    "    print(\"Testing Accuracy: \", count1/len(y_test))\n",
    "\n",
    "\n",
    "def F1_score(modl1, thresh):\n",
    "    \n",
    "    from sklearn.metrics import f1_score \n",
    "    \n",
    "    y_pred = modl1.predict_proba(X_test)\n",
    "    \n",
    "    print('f1_score: ', f1_score(y_test, modl1.predict(X_test)))\n",
    "    print('f1_score for 1: ', f1_score(y_test == 1, y_pred[:,1] > thresh)*100) \n",
    "    print('f1_score fot 0: ', f1_score(y_test == 0, y_pred[:,1] < thresh)*100)\n",
    "    \n",
    "def precision (modl1):\n",
    "    from sklearn.metrics import precision_score\n",
    "    \n",
    "    y_pred1 = modl1.predict(X_train)\n",
    "    print(\"Training Precision: \", precision_score(y_train, y_pred1))\n",
    "    \n",
    "    y_pred = modl1.predict(X_test)\n",
    "    print(\"Testing Precision: \", precision_score(y_test, y_pred))\n",
    "    pass"
   ]
  },
  {
   "cell_type": "code",
   "execution_count": 68,
   "metadata": {},
   "outputs": [
    {
     "name": "stderr",
     "output_type": "stream",
     "text": [
      "C:\\Users\\Tejas\\AppData\\Local\\Continuum\\anaconda3\\lib\\site-packages\\sklearn\\ensemble\\_forest.py:569: UserWarning: class_weight presets \"balanced\" or \"balanced_subsample\" are not recommended for warm_start if the fitted data differs from the full dataset. In order to use \"balanced\" weights, use compute_class_weight (\"balanced\", classes, y). In place of y you can use a large enough sample of the full training set target to properly estimate the class frequency distributions. Pass the resulting weights as the class_weight parameter.\n",
      "  warn('class_weight presets \"balanced\" or '\n"
     ]
    },
    {
     "name": "stdout",
     "output_type": "stream",
     "text": [
      "Training AUC:  0.9491235403223699\n",
      "Testing AUC:  0.9376236592731437\n",
      "Training Accuracy:  0.8735632183908046\n",
      "Testing Accuracy:  0.8775510204081632\n",
      "f1_score:  0.8723404255319148\n",
      "f1_score for 1:  87.23404255319149\n",
      "f1_score fot 0:  88.23529411764706\n",
      "Training Precision:  0.8822055137844611\n",
      "Testing Precision:  0.9010989010989011\n"
     ]
    }
   ],
   "source": [
    "from sklearn.ensemble import RandomForestClassifier\n",
    "from sklearn.metrics import roc_auc_score\n",
    "modl = RandomForestClassifier(n_estimators=100, criterion='gini', max_depth=3,\n",
    "                               max_features='auto', min_samples_split=3,\n",
    "                               bootstrap=True, oob_score=True, random_state=41,\n",
    "                               warm_start=True, class_weight='balanced', ccp_alpha=0.001,\n",
    "                               max_samples=45).fit(X_train, y_train)\n",
    " \n",
    "y_pred_test = modl.predict_proba(X_test)\n",
    "y_pred_train = modl.predict_proba(X_train)\n",
    "print (\"Training AUC: \", roc_auc_score(y_train, y_pred_train[:,1]))\n",
    "print (\"Testing AUC: \", roc_auc_score(y_test, y_pred_test[:,1]))\n",
    "accuracies(modl)\n",
    "F1_score(modl, 0.5)\n",
    "precision(modl)"
   ]
  },
  {
   "cell_type": "markdown",
   "metadata": {},
   "source": [
    "# Conclusion: \n",
    "\n",
    "- From the EDA we understood many hidden insights from the raw data which are mentioned in detail in an above cell. Using those insights we developed a ML model to classify if an order should be given service lines '34' or '65'. The classifier seems to give us an impressive outcome of ~0.94 AUC, ~88% accuracy. We could also see that the precision and recall are pretty well balanced. "
   ]
  }
 ],
 "metadata": {
  "kernelspec": {
   "display_name": "Python 3",
   "language": "python",
   "name": "python3"
  },
  "language_info": {
   "codemirror_mode": {
    "name": "ipython",
    "version": 3
   },
   "file_extension": ".py",
   "mimetype": "text/x-python",
   "name": "python",
   "nbconvert_exporter": "python",
   "pygments_lexer": "ipython3",
   "version": "3.6.10"
  }
 },
 "nbformat": 4,
 "nbformat_minor": 4
}
